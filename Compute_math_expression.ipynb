{
  "nbformat": 4,
  "nbformat_minor": 0,
  "metadata": {
    "colab": {
      "provenance": [],
      "authorship_tag": "ABX9TyPJ8vV3c6SX2GGsh2WRX9hy",
      "include_colab_link": true
    },
    "kernelspec": {
      "name": "python3",
      "display_name": "Python 3"
    },
    "language_info": {
      "name": "python"
    }
  },
  "cells": [
    {
      "cell_type": "markdown",
      "metadata": {
        "id": "view-in-github",
        "colab_type": "text"
      },
      "source": [
        "<a href=\"https://colab.research.google.com/github/urishani/KFAR-VRADIM/blob/main/Compute_math_expression.ipynb\" target=\"_parent\"><img src=\"https://colab.research.google.com/assets/colab-badge.svg\" alt=\"Open In Colab\"/></a>"
      ]
    },
    {
      "cell_type": "code",
      "execution_count": null,
      "metadata": {
        "id": "MGJI7A9wC9Ay"
      },
      "outputs": [],
      "source": []
    },
    {
      "cell_type": "markdown",
      "source": [
        "# Term Assignment - interpreting a mathematical expression\n",
        "To interpret and compute a mathematical expression given as a text input line, you need to **parse** the epxression and evaluate the result.<br>\n",
        "This assignment gives the opportunity to work on several programming domains and requires to apply algorithmic and structure thinking.\n",
        "\n",
        "## Objective:\n",
        "In this assignment, you will design and implement a parser and interpreter for mathematical expressions consisting of basic operators (+, -, *, /), numbers, and parentheses, and respect the priority rules of multiplication/division over addition/subtraction. The goal is to parse the expression, evaluate it, and compute the final result.\n",
        "\n",
        "## Stages of Implementation:\n",
        "\n",
        "### Text Reader:\n",
        "\n",
        "Implement a function that reads the mathematical expression as a text input from the console. One expression per input line. When input is empty, the program stops.\n",
        "Ensure to handle any potential errors or invalid input gracefully, providing appropriate feedback or error messages.\n",
        "\n",
        "For ease we assume the following:\n",
        "1. There is space separating the tokens in the expression, e.g., 5 * (13 + 2).\n",
        "2. Operators are only binary (no unary + or - such as -5 + 6)\n",
        "\n",
        "### Tokenizer:\n",
        "\n",
        "Develop a tokenizer function that takes the input text and breaks it down into tokens (individual components) such as numbers, operators, and parentheses.\n",
        "it should be possible to iterate over the tokens in the next stage which is the parser.\n",
        "Think about how to represent each token.\n",
        "Some errors may be discovered in this stage and should be handled. Think how to do that as part of the whole solution.\n",
        "So for this input: \"4 * ( 13 + 5 )\", the tokens are:\n",
        "\"4\", \"*\", \"(\", \"13\", \"+\", \"5\", \")\".\n",
        "When there is an error, like here: \"4 * ( a3 + 5 )\", the 4th token should indicate that \"a3\" is an error.\n",
        "\n",
        "### Parser:\n",
        "\n",
        "Create a parser function that takes the tokens produced by the tokenizer and constructs a parse tree (also known as an \"abstract syntax tree\" - AST) representing the structure of the mathematical expression.\n",
        "\n",
        "You can use these rules to build the tree, based on these abstractions:\n",
        "- Expression - The entire expression or subexpression in it\n",
        "- term - a binary subexpression consisting of addition/subtraction operator\n",
        "- factor - a binary subexpression consisting of multiplication/division operator.\n",
        "\n",
        "The rules are therefore:\n",
        "- expression can be a term\n",
        "- expression can be an expression followed by an addition/subtraction operator, and a term\n",
        "\n",
        "- term can be a factor\n",
        "- term can be a term followed by a multiplication/division operator and a factor\n",
        "\n",
        "- factor can be a number\n",
        "- factor can be an expression enclosed with parentheses\n",
        "\n",
        "\n",
        "\n",
        "Here, you are building a heirarchical structure (tree) where each node in it represents an abstraction according to the rules above.\n",
        "\n",
        "The way the tree is built as the tokens are recognised is from bottom up, as the tokens are encountered until the last token is consumed.\n",
        "\n",
        "An error here is detected when there is no rule that can be applied to construct the next node.\n",
        "\n",
        "### Interpreter:\n",
        "\n",
        "Build an interpreter function that traverses the parse tree (or AST) and evaluates the expression.\n",
        "Implement the necessary logic to perform the arithmetic operations and handle the parentheses, ensuring correct order of operations.\n",
        "\n",
        "This function also produces the evaluation of the expression to a number that can be printed in the output.\n",
        "\n",
        "### input\n",
        "The inputs are several lines read from the console, containing expressions which may have errors in them. Program stops when an empty line is encountered as input.\n",
        "\n",
        "### output\n",
        "For each of these lines, print the input line as it is, appended with the string ' --> ', and the numerical result, or the text 'error'.\n",
        "\n",
        "### Examples:\n",
        "\n",
        "The input is:\n",
        "```\n",
        "4 * ( 3 + 5 )\n",
        "4 * ( a3 + 5 )\n",
        "4 * ( 13 + 5\n",
        "4 * 3 + 5\n",
        "4 * ( 3 +5 )\n",
        "\n",
        "\n",
        "```\n",
        "and the output is:\n",
        "```\n",
        "4 * ( 3 + 5 ) --> 32\n",
        "4 * ( a3 + 5 ) --> error\n",
        "4 * ( 13 + 5 --> error\n",
        "4 * 3 + 5 --> 17\n",
        "4 * ( 3 +5 ) --> error\n",
        "```\n",
        "## Bonuses\n",
        "Any or all of these:\n",
        "### Draw AST graphs\n",
        "Generate graph display of the AST according to the code examples in the next [AST trees](#ast-trees) cell which also demonstrates the AST trees of 2 small examples.\n",
        "### Optional spaces among tokens\n",
        "Allow expressions such a the last example to be legal, so 3 +5, or 3+5 are ok.\n",
        "### Unary operations\n",
        "Allow terms such as +5 and -5 also as unary operator to be legal. Examples:\n",
        "```\n",
        "- 4 + 5 * 3\n",
        "4 + 5 * - 3\n",
        "```\n",
        "Or when avoiding spaces:\n",
        "```\n",
        "-4+5*3 will be lagal and evaluate to 11.\n",
        "4+5*-3 will be legal too, and evaluate to -11.\n",
        "```"
      ],
      "metadata": {
        "id": "yn8Hmn4sC-HQ"
      }
    },
    {
      "cell_type": "markdown",
      "source": [
        "# AST trees\n",
        "For this expression: 4 * ( 3 + 5 )\n",
        "this is the AST tree:\n",
        "\n",
        "        *\n",
        "       / \\\n",
        "      4   +\n",
        "         / \\\n",
        "        3   5\n",
        "\n",
        "\n",
        "\n",
        "If we remove the parentheses: 4 * 3 + 5,\n",
        "the tree changes:\n",
        "\n",
        "          +\n",
        "         / \\\n",
        "        *   5\n",
        "       / \\\n",
        "      4   3\n",
        "\n",
        "\n",
        "We also draw them using python visualization tools in the next code cells:"
      ],
      "metadata": {
        "id": "5_94hHqIU2SZ"
      }
    },
    {
      "cell_type": "code",
      "source": [
        "# With parentheses: 4 * ( 3 + 5 ).\n",
        "import networkx as nx\n",
        "import matplotlib.pyplot as plt\n",
        "\n",
        "# Create a directed graph\n",
        "G = nx.DiGraph()\n",
        "\n",
        "# Add nodes and edges for the AST\n",
        "G.add_edge('*', '4')\n",
        "G.add_edge('*', '+')\n",
        "G.add_edge('+', '3')\n",
        "G.add_edge('+', '5')\n",
        "\n",
        "# Set node positions manually (optional)\n",
        "pos = {'*': (0, 0), '4': (-1, -1), '+': (1, -1), '3': (0.5, -2), '5': (1.5, -2)}\n",
        "\n",
        "# Draw the graph\n",
        "plt.figure(figsize=(3/2,2/2))\n",
        "nx.draw(G, pos, with_labels=True, node_size=200, node_color='lightblue', font_size=12, font_color='black')\n",
        "\n",
        "# Display the graph\n",
        "plt.show()"
      ],
      "metadata": {
        "id": "F5hKv3JxVIoJ"
      },
      "execution_count": null,
      "outputs": []
    },
    {
      "cell_type": "markdown",
      "source": [
        "Another example without the parentheses, the whole tree changes:\n"
      ],
      "metadata": {
        "id": "ua3S0WKfVQS1"
      }
    },
    {
      "cell_type": "code",
      "source": [
        "# Without parentheses: 4 * 3 + 5 .\n",
        "import networkx as nx\n",
        "import matplotlib.pyplot as plt\n",
        "\n",
        "# Create a directed graph\n",
        "G = nx.DiGraph()\n",
        "\n",
        "# Add nodes and edges for the AST\n",
        "G.add_edge('*', '4')\n",
        "G.add_edge('+', '*')\n",
        "G.add_edge('*', '3')\n",
        "G.add_edge('+', '5')\n",
        "\n",
        "# Set node positions manually (optional)\n",
        "plt.figure(figsize=(3/2,2/2))\n",
        "pos = {'+': (0, 0), '4': (-2, -2), '*': (-1, -1), '3': (0, -2), '5': (1, -1)}\n",
        "\n",
        "# Draw the graph\n",
        "nx.draw(G, pos, with_labels=True, node_size=200, node_color='lightblue', font_size=12, font_color='black')\n",
        "\n",
        "# Display the graph\n",
        "plt.show()"
      ],
      "metadata": {
        "id": "AKFHgzNnVe_7"
      },
      "execution_count": null,
      "outputs": []
    }
  ]
}